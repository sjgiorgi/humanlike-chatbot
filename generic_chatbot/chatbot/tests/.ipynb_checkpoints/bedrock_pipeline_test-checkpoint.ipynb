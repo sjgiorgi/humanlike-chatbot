{
 "cells": [
  {
   "cell_type": "markdown",
   "metadata": {},
   "source": [
    "# BedrockEngine Test"
   ]
  },
  {
   "cell_type": "code",
   "execution_count": 1,
   "metadata": {},
   "outputs": [],
   "source": [
    "# Credentials\n",
    "AWS_ACCESS_KEY_ID = \"\"\n",
    "AWS_SECRET_ACCESS_KEY = \"\"\n",
    "HF_TOKEN = \"\"\n",
    "\n",
    "import sys\n",
    "\n",
    "sys.path.append(\"/Users/aps/UPenn/humanlike-chatbot/generic_chatbot\")\n",
    "\n",
    "\n",
    "from kani import Kani\n",
    "\n",
    "from chatbot.engines.bedrock_engine import BedrockEngine"
   ]
  },
  {
   "cell_type": "code",
   "execution_count": 2,
   "metadata": {},
   "outputs": [],
   "source": [
    "engine = BedrockEngine(\n",
    "    model_id=\"meta.llama3-8b-instruct-v1:0\",\n",
    "    aws_access_key_id=AWS_ACCESS_KEY_ID,\n",
    "    aws_secret_access_key=AWS_SECRET_ACCESS_KEY,\n",
    "    region_name=\"us-east-1\",\n",
    "    max_tokens=100,\n",
    "    temperature=0.7,\n",
    ")"
   ]
  },
  {
   "cell_type": "code",
   "execution_count": 3,
   "metadata": {},
   "outputs": [
    {
     "name": "stdout",
     "output_type": "stream",
     "text": [
      "\n",
      "\n",
      "Hello!\n"
     ]
    }
   ],
   "source": [
    "ai = Kani(engine)\n",
    "\n",
    "async def test():\n",
    "    try:\n",
    "        response = await ai.chat_round_str(\"Say hello in one sentence.\")\n",
    "        print(response)\n",
    "    except Exception as e:\n",
    "        print(f\"Error: {e}\")\n",
    "    finally:\n",
    "        await engine.close()\n",
    "\n",
    "await test()"
   ]
  },
  {
   "cell_type": "code",
   "execution_count": null,
   "metadata": {},
   "outputs": [
    {
     "name": "stdin",
     "output_type": "stream",
     "text": [
      "USER:  hi\n"
     ]
    },
    {
     "name": "stdout",
     "output_type": "stream",
     "text": [
      "AI: \n",
      "    \n",
      "    Hi! It's nice to meet you. Is there something I can help you with or would you like to chat?\n"
     ]
    },
    {
     "name": "stdin",
     "output_type": "stream",
     "text": [
      "USER:  nothing much\n"
     ]
    },
    {
     "name": "stdout",
     "output_type": "stream",
     "text": [
      "AI: \n",
      "    \n",
      "    That's perfectly fine! Sometimes it's nice to just have a quiet moment to relax and do nothing in particular.\n",
      "    \n",
      "    If you're feeling chatty, I'm here to listen and chat with you about anything that's on your mind. Or if you'd prefer, we could play a game, have a fun conversation, or explore a new topic together!\n",
      "    \n",
      "    What do you think?\n"
     ]
    },
    {
     "name": "stdin",
     "output_type": "stream",
     "text": [
      "USER:  not a lot\n"
     ]
    },
    {
     "name": "stdout",
     "output_type": "stream",
     "text": [
      "AI: \n",
      "    \n",
      "    It can be tough to muster up the energy to do much when you're not feeling particularly motivated or inspired.\n",
      "    \n",
      "    If you're okay with it, I'd like to just sit here with you in silence for a bit. Sometimes having someone present can be comforting, even if we're not actively chatting.\n",
      "    \n",
      "    If you do want to talk about something, I'm here for you whenever you're ready. No pressure or expectations!\n",
      "    \n",
      "    Just let me know if there's anything specific you'd like to talk about\n"
     ]
    }
   ],
   "source": [
    "from kani import Kani, chat_in_terminal\n",
    "\n",
    "engine = BedrockEngine(\n",
    "    model_id=\"meta.llama3-8b-instruct-v1:0\",\n",
    "    aws_access_key_id=AWS_ACCESS_KEY_ID,\n",
    "    aws_secret_access_key=AWS_SECRET_ACCESS_KEY,\n",
    "    region_name=\"us-east-1\",\n",
    "    max_tokens=100,\n",
    "    temperature=0.7,\n",
    ")\n",
    "ai = Kani(engine)\n",
    "chat_in_terminal(ai)"
   ]
  },
  {
   "cell_type": "code",
   "execution_count": null,
   "metadata": {},
   "outputs": [],
   "source": []
  }
 ],
 "metadata": {
  "kernelspec": {
   "display_name": "Python 3 (ipykernel)",
   "language": "python",
   "name": "python3"
  },
  "language_info": {
   "codemirror_mode": {
    "name": "ipython",
    "version": 3
   },
   "file_extension": ".py",
   "mimetype": "text/x-python",
   "name": "python",
   "nbconvert_exporter": "python",
   "pygments_lexer": "ipython3",
   "version": "3.11.13"
  }
 },
 "nbformat": 4,
 "nbformat_minor": 4
}
